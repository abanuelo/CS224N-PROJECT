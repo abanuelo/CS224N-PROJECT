{
 "cells": [
  {
   "cell_type": "markdown",
   "metadata": {},
   "source": [
    "# Super Characters Method Implementation on Quora Sincerity Kaggle Competition 2018\n",
    "Based on the Sun, Yang, Dong, Zhang, and Young paper (October 15th, 2018) \"Super Characters: A Conversion from Sentiment Classification to Image Classification\", I will be experimenting with the different parameters for the construction of super characters as referenced in the paper, along with my own implementation of CNN training on constructed super characters"
   ]
  },
  {
   "cell_type": "markdown",
   "metadata": {},
   "source": [
    "## Imports"
   ]
  },
  {
   "cell_type": "code",
   "execution_count": 14,
   "metadata": {},
   "outputs": [],
   "source": [
    "from PIL import Image, ImageDraw, ImageFont\n",
    "import pandas as pd # data processing, CSV file I/O (e.g. pd.read_csv)\n",
    "import tensorflow as tf\n",
    "import numpy as np\n",
    "import textwrap\n",
    "import os"
   ]
  },
  {
   "cell_type": "markdown",
   "metadata": {},
   "source": [
    "## Constructing An Example Super Character"
   ]
  },
  {
   "cell_type": "code",
   "execution_count": 11,
   "metadata": {},
   "outputs": [],
   "source": [
    "#Constructing Background of Super Character with Black Background\n",
    "#Note: Paper Suggested using Unicode MS Font for Implementation Purposes\n",
    "img = Image.new('RGB', (224,224), color = 'black')\n",
    "text_overlay = ImageDraw.Draw(img)\n",
    "fnt = ImageFont.truetype('/Library/Fonts/arialunicodems.ttf')\n",
    "text_overlay.text((8,8), \"This is where the sample text will be inserted\", font=fnt, fill=(255,255,255))\n",
    "img.save(\"sample_1.png\")"
   ]
  },
  {
   "cell_type": "markdown",
   "metadata": {},
   "source": [
    "## Specs of Super Character Algorithmic Implementation\n",
    "The paper specifies integrating two steps in order to test the model for training purposes. Let us walk through both of those steps as we proceed with the Super Chatacters algorithm.\n",
    "\n",
    "1. Sentences or paragraphs are drawn onto blank images character by character. Each generated \"Super Character\" image retains the same sentiment as the original text.\n",
    "2. Feed generated Super Character images with its labels to train with computer vision CNN model."
   ]
  },
  {
   "cell_type": "markdown",
   "metadata": {},
   "source": [
    "### Step 1: Create Mapping of Super Characters to Sentiment"
   ]
  },
  {
   "cell_type": "code",
   "execution_count": 15,
   "metadata": {},
   "outputs": [],
   "source": [
    "#Declaring Important Global Variables for Testing Implementation\n",
    "RIGHT_PAD = 4\n",
    "VERTICAL_PAD = 15\n",
    "FONT_SIZE = 12\n",
    "FONT = ImageFont.truetype('/Library/Fonts/arialunicodems.ttf', FONT_SIZE)\n",
    "TEXT_FILL = (255,255,255)\n",
    "WRAP_TEXT_BORDER = 36\n",
    "IMAGE_W = 224\n",
    "IMAGE_H = 224"
   ]
  },
  {
   "cell_type": "code",
   "execution_count": 3,
   "metadata": {},
   "outputs": [],
   "source": [
    "#Reading Training Data from CV File \n",
    "train_df = pd.read_csv(\"./train.csv\", engine='python')\n",
    "target = train_df.target\n",
    "questions_text = train_df.question_text.str.split()"
   ]
  },
  {
   "cell_type": "code",
   "execution_count": 16,
   "metadata": {},
   "outputs": [],
   "source": [
    "#Reading Testing Data from CV File\n",
    "test_df = pd.read_csv(\"./test.csv\", engine='python')\n",
    "qid = test_df.qid\n",
    "questions_text_test = test_df.question_text.str.split()"
   ]
  },
  {
   "cell_type": "code",
   "execution_count": 5,
   "metadata": {},
   "outputs": [],
   "source": [
    "#Regulate Word Projections at Line-Changes for SC Questions\n",
    "def create_text_wrap(text):\n",
    "    new_text = textwrap.wrap(text, width=WRAP_TEXT_BORDER)\n",
    "    return new_text"
   ]
  },
  {
   "cell_type": "code",
   "execution_count": 6,
   "metadata": {},
   "outputs": [],
   "source": [
    "#Function Overlays Text to Black Background\n",
    "def overlay_text(d, question):\n",
    "    delta_v_pad = 0\n",
    "    for phrase in question:\n",
    "        d.text((RIGHT_PAD, delta_v_pad), phrase, font = FONT, fill = TEXT_FILL)\n",
    "        delta_v_pad += VERTICAL_PAD"
   ]
  },
  {
   "cell_type": "markdown",
   "metadata": {},
   "source": [
    "### This will read data from Training Data"
   ]
  },
  {
   "cell_type": "code",
   "execution_count": 13,
   "metadata": {},
   "outputs": [],
   "source": [
    "#Create each super character to be later be matched with proper sentiment\n",
    "sc_to_target = {} #holds mapping for sc to sentiment of words\n",
    "index = 0\n",
    "\n",
    "count = 0\n",
    "num_accounted = 0\n",
    "#For testing, we are only going to do 1000 for insincere and 1000 for sincere\n",
    "for question in questions_text:\n",
    "    if count > 10000 and num_accounted == 250:\n",
    "        break\n",
    "    if target[index] == 0 and count > 10000:\n",
    "        sc_question = ' '. join(question)\n",
    "        formated_sc_q = create_text_wrap(sc_question)\n",
    "        img_new = Image.new('RGB', (IMAGE_W, IMAGE_H), color='black')\n",
    "        d = ImageDraw.Draw(img_new)\n",
    "        overlay_text(d, formated_sc_q)\n",
    "        file_name = \"example_\" + str(index) + \".png\"\n",
    "        sc_to_target[file_name] = target[index] #creates mapping of sc to sentiment\n",
    "        img_new.save(file_name)\n",
    "        num_accounted += 1\n",
    "    count += 1\n",
    "    index += 1"
   ]
  },
  {
   "cell_type": "markdown",
   "metadata": {},
   "source": [
    "### This will read data from Testing Data"
   ]
  },
  {
   "cell_type": "code",
   "execution_count": 18,
   "metadata": {},
   "outputs": [],
   "source": [
    "#Create each super character to be later be matched with proper sentiment\n",
    "index_test = 0\n",
    "\n",
    "#For testing, we are only going to do 1000 for insincere and 1000 for sincere\n",
    "count_test = 0\n",
    "for question in questions_text_test:\n",
    "    sc_question = ' '. join(question)\n",
    "    formated_sc_q = create_text_wrap(sc_question)\n",
    "    img_new = Image.new('RGB', (IMAGE_W, IMAGE_H), color='black')\n",
    "    d = ImageDraw.Draw(img_new)\n",
    "    overlay_text(d, formated_sc_q)\n",
    "    file_name = \"example_\" + str(index_test) + \".png\"\n",
    "    img_new.save(file_name)\n",
    "    count_test += 1 #comment out after testing has been created\n",
    "    index_test += 1"
   ]
  },
  {
   "cell_type": "code",
   "execution_count": null,
   "metadata": {},
   "outputs": [],
   "source": []
  }
 ],
 "metadata": {
  "kernelspec": {
   "display_name": "Python 3",
   "language": "python",
   "name": "python3"
  },
  "language_info": {
   "codemirror_mode": {
    "name": "ipython",
    "version": 3
   },
   "file_extension": ".py",
   "mimetype": "text/x-python",
   "name": "python",
   "nbconvert_exporter": "python",
   "pygments_lexer": "ipython3",
   "version": "3.6.7"
  }
 },
 "nbformat": 4,
 "nbformat_minor": 2
}
